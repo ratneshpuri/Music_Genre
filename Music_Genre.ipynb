{
  "nbformat": 4,
  "nbformat_minor": 0,
  "metadata": {
    "colab": {
      "name": "Music_Genre.ipynb",
      "provenance": [],
      "collapsed_sections": [
        "4afKjJT_eXF0",
        "2K4A0RtSiYzR",
        "ftJQWiolj3yH",
        "2wWLZMpSroQp",
        "pvlPDuZ5vgPj",
        "RYQUEwu_u4gu",
        "w2zCiBSNv-42",
        "4x_PpOsDxQKI",
        "SOZxW4tSyFQs",
        "BWA-D3xax-K3",
        "aX7Tbo100sSI",
        "noSQTK0j1x2p"
      ],
      "authorship_tag": "ABX9TyPACRkfUHLJVRVJGBx0DcGo",
      "include_colab_link": true
    },
    "kernelspec": {
      "name": "python3",
      "display_name": "Python 3"
    },
    "language_info": {
      "name": "python"
    },
    "accelerator": "GPU"
  },
  "cells": [
    {
      "cell_type": "markdown",
      "metadata": {
        "id": "view-in-github",
        "colab_type": "text"
      },
      "source": [
        "<a href=\"https://colab.research.google.com/github/ratneshpuri/Music_Genre/blob/main/Music_Genre.ipynb\" target=\"_parent\"><img src=\"https://colab.research.google.com/assets/colab-badge.svg\" alt=\"Open In Colab\"/></a>"
      ]
    },
    {
      "cell_type": "code",
      "execution_count": 118,
      "metadata": {
        "id": "IqHz58Ufz3NU"
      },
      "outputs": [],
      "source": [
        "import numpy as np\n",
        "import pandas as pd\n",
        "import matplotlib.pyplot as plt\n",
        "import seaborn as sns"
      ]
    },
    {
      "cell_type": "code",
      "source": [
        "data=pd.read_csv(\"train.csv\")\n",
        "data.sample(5)"
      ],
      "metadata": {
        "colab": {
          "base_uri": "https://localhost:8080/",
          "height": 452
        },
        "id": "hxG2K5fB0V0C",
        "outputId": "802eef9f-785d-4b08-8f0b-f182d0fa4f40"
      },
      "execution_count": 119,
      "outputs": [
        {
          "output_type": "execute_result",
          "data": {
            "text/html": [
              "<div>\n",
              "<style scoped>\n",
              "    .dataframe tbody tr th:only-of-type {\n",
              "        vertical-align: middle;\n",
              "    }\n",
              "\n",
              "    .dataframe tbody tr th {\n",
              "        vertical-align: top;\n",
              "    }\n",
              "\n",
              "    .dataframe thead th {\n",
              "        text-align: right;\n",
              "    }\n",
              "</style>\n",
              "<table border=\"1\" class=\"dataframe\">\n",
              "  <thead>\n",
              "    <tr style=\"text-align: right;\">\n",
              "      <th></th>\n",
              "      <th>instance_id</th>\n",
              "      <th>track_name</th>\n",
              "      <th>popularity</th>\n",
              "      <th>acousticness</th>\n",
              "      <th>danceability</th>\n",
              "      <th>duration_ms</th>\n",
              "      <th>energy</th>\n",
              "      <th>instrumentalness</th>\n",
              "      <th>key</th>\n",
              "      <th>liveness</th>\n",
              "      <th>loudness</th>\n",
              "      <th>voice_gender</th>\n",
              "      <th>mode</th>\n",
              "      <th>speechiness</th>\n",
              "      <th>tempo</th>\n",
              "      <th>musician_category</th>\n",
              "      <th>valence</th>\n",
              "      <th>music_genre</th>\n",
              "    </tr>\n",
              "  </thead>\n",
              "  <tbody>\n",
              "    <tr>\n",
              "      <th>3717</th>\n",
              "      <td>MSC_49360.0</td>\n",
              "      <td>Plain Gold Ring</td>\n",
              "      <td>29.199</td>\n",
              "      <td>0.920342</td>\n",
              "      <td>0.625316</td>\n",
              "      <td>285578.382</td>\n",
              "      <td>0.076815</td>\n",
              "      <td>0.000006</td>\n",
              "      <td>Scale A</td>\n",
              "      <td>0.217675</td>\n",
              "      <td>-19.658</td>\n",
              "      <td>Female</td>\n",
              "      <td>Minor</td>\n",
              "      <td>0.038134</td>\n",
              "      <td>60.073</td>\n",
              "      <td>Solo</td>\n",
              "      <td>0.407299</td>\n",
              "      <td>Jazz</td>\n",
              "    </tr>\n",
              "    <tr>\n",
              "      <th>115</th>\n",
              "      <td>MSC_32441.0</td>\n",
              "      <td>Andante spianato and Grande polonaise in E fla...</td>\n",
              "      <td>29.496</td>\n",
              "      <td>1.080829</td>\n",
              "      <td>0.197181</td>\n",
              "      <td>320496.131</td>\n",
              "      <td>0.010237</td>\n",
              "      <td>1.036402</td>\n",
              "      <td>Scale G</td>\n",
              "      <td>0.070662</td>\n",
              "      <td>-39.687</td>\n",
              "      <td>Both</td>\n",
              "      <td>Major</td>\n",
              "      <td>0.044875</td>\n",
              "      <td>70.524</td>\n",
              "      <td>Duet</td>\n",
              "      <td>0.075537</td>\n",
              "      <td>Classical</td>\n",
              "    </tr>\n",
              "    <tr>\n",
              "      <th>5493</th>\n",
              "      <td>MSC_31906.0</td>\n",
              "      <td>Dance Off (feat. Idris Elba &amp; Anderson .Paak)</td>\n",
              "      <td>62.043</td>\n",
              "      <td>0.045076</td>\n",
              "      <td>0.836483</td>\n",
              "      <td>-1.000</td>\n",
              "      <td>0.863864</td>\n",
              "      <td>0.000138</td>\n",
              "      <td>Scale G</td>\n",
              "      <td>0.176839</td>\n",
              "      <td>-4.221</td>\n",
              "      <td>Both</td>\n",
              "      <td>Major</td>\n",
              "      <td>0.057019</td>\n",
              "      <td>120.979</td>\n",
              "      <td>Duet</td>\n",
              "      <td>0.499929</td>\n",
              "      <td>Rap</td>\n",
              "    </tr>\n",
              "    <tr>\n",
              "      <th>6760</th>\n",
              "      <td>MSC_45187.0</td>\n",
              "      <td>Madamina, Il Catalogo 1. Akt / Act 1</td>\n",
              "      <td>34.863</td>\n",
              "      <td>1.034953</td>\n",
              "      <td>0.317570</td>\n",
              "      <td>383405.959</td>\n",
              "      <td>0.225594</td>\n",
              "      <td>0.010131</td>\n",
              "      <td>Scale D</td>\n",
              "      <td>0.141343</td>\n",
              "      <td>-16.539</td>\n",
              "      <td>Male</td>\n",
              "      <td>Major</td>\n",
              "      <td>0.055647</td>\n",
              "      <td>79.11399999999999</td>\n",
              "      <td>Band</td>\n",
              "      <td>0.262161</td>\n",
              "      <td>Classical</td>\n",
              "    </tr>\n",
              "    <tr>\n",
              "      <th>3469</th>\n",
              "      <td>MSC_51908.0</td>\n",
              "      <td>Stop And Stare</td>\n",
              "      <td>66.765</td>\n",
              "      <td>0.063558</td>\n",
              "      <td>0.518298</td>\n",
              "      <td>-1.000</td>\n",
              "      <td>0.892852</td>\n",
              "      <td>0.000000</td>\n",
              "      <td>Scale E</td>\n",
              "      <td>0.086210</td>\n",
              "      <td>-4.619</td>\n",
              "      <td>Both</td>\n",
              "      <td>Major</td>\n",
              "      <td>0.037027</td>\n",
              "      <td>92.494</td>\n",
              "      <td>Duet</td>\n",
              "      <td>NaN</td>\n",
              "      <td>Rap</td>\n",
              "    </tr>\n",
              "  </tbody>\n",
              "</table>\n",
              "</div>"
            ],
            "text/plain": [
              "      instance_id  ... music_genre\n",
              "3717  MSC_49360.0  ...        Jazz\n",
              "115   MSC_32441.0  ...   Classical\n",
              "5493  MSC_31906.0  ...         Rap\n",
              "6760  MSC_45187.0  ...   Classical\n",
              "3469  MSC_51908.0  ...         Rap\n",
              "\n",
              "[5 rows x 18 columns]"
            ]
          },
          "metadata": {},
          "execution_count": 119
        }
      ]
    },
    {
      "cell_type": "code",
      "source": [
        "print(data.shape)\n",
        "print(data.columns)"
      ],
      "metadata": {
        "colab": {
          "base_uri": "https://localhost:8080/"
        },
        "id": "qmUby7VI0axg",
        "outputId": "34d075f6-26f1-42dd-8f5d-6a601f3ea51f"
      },
      "execution_count": 120,
      "outputs": [
        {
          "output_type": "stream",
          "name": "stdout",
          "text": [
            "(15681, 18)\n",
            "Index(['instance_id', 'track_name', 'popularity', 'acousticness',\n",
            "       'danceability', 'duration_ms', 'energy', 'instrumentalness', 'key',\n",
            "       'liveness', 'loudness', 'voice_gender', 'mode', 'speechiness', 'tempo',\n",
            "       'musician_category', 'valence', 'music_genre'],\n",
            "      dtype='object')\n"
          ]
        }
      ]
    },
    {
      "cell_type": "markdown",
      "source": [
        "## Info"
      ],
      "metadata": {
        "id": "QtfPrbJijtJA"
      }
    },
    {
      "cell_type": "code",
      "source": [
        "data.info()"
      ],
      "metadata": {
        "colab": {
          "base_uri": "https://localhost:8080/"
        },
        "id": "NSlVbG0A0a5H",
        "outputId": "3fe4af8b-7eac-4a77-d123-f1f810faadee"
      },
      "execution_count": 121,
      "outputs": [
        {
          "output_type": "stream",
          "name": "stdout",
          "text": [
            "<class 'pandas.core.frame.DataFrame'>\n",
            "RangeIndex: 15681 entries, 0 to 15680\n",
            "Data columns (total 18 columns):\n",
            " #   Column             Non-Null Count  Dtype  \n",
            "---  ------             --------------  -----  \n",
            " 0   instance_id        15681 non-null  object \n",
            " 1   track_name         15681 non-null  object \n",
            " 2   popularity         15039 non-null  float64\n",
            " 3   acousticness       15681 non-null  float64\n",
            " 4   danceability       15125 non-null  float64\n",
            " 5   duration_ms        15587 non-null  float64\n",
            " 6   energy             15587 non-null  float64\n",
            " 7   instrumentalness   15586 non-null  float64\n",
            " 8   key                15681 non-null  object \n",
            " 9   liveness           15681 non-null  float64\n",
            " 10  loudness           15645 non-null  float64\n",
            " 11  voice_gender       14916 non-null  object \n",
            " 12  mode               15646 non-null  object \n",
            " 13  speechiness        15655 non-null  float64\n",
            " 14  tempo              15681 non-null  object \n",
            " 15  musician_category  14321 non-null  object \n",
            " 16  valence            15004 non-null  float64\n",
            " 17  music_genre        15681 non-null  object \n",
            "dtypes: float64(10), object(8)\n",
            "memory usage: 2.2+ MB\n"
          ]
        }
      ]
    },
    {
      "cell_type": "code",
      "source": [
        "print(\"Printing Null values\")\n",
        "print()\n",
        "print(data.isnull().sum()/data.shape[0])"
      ],
      "metadata": {
        "colab": {
          "base_uri": "https://localhost:8080/"
        },
        "id": "VQTKRM5MeEep",
        "outputId": "a05c192d-3834-43de-a052-66807d402c76"
      },
      "execution_count": 122,
      "outputs": [
        {
          "output_type": "stream",
          "name": "stdout",
          "text": [
            "Printing Null values\n",
            "\n",
            "instance_id          0.000000\n",
            "track_name           0.000000\n",
            "popularity           0.040941\n",
            "acousticness         0.000000\n",
            "danceability         0.035457\n",
            "duration_ms          0.005995\n",
            "energy               0.005995\n",
            "instrumentalness     0.006058\n",
            "key                  0.000000\n",
            "liveness             0.000000\n",
            "loudness             0.002296\n",
            "voice_gender         0.048785\n",
            "mode                 0.002232\n",
            "speechiness          0.001658\n",
            "tempo                0.000000\n",
            "musician_category    0.086729\n",
            "valence              0.043173\n",
            "music_genre          0.000000\n",
            "dtype: float64\n"
          ]
        }
      ]
    },
    {
      "cell_type": "markdown",
      "source": [
        "## Popularity"
      ],
      "metadata": {
        "id": "4afKjJT_eXF0"
      }
    },
    {
      "cell_type": "code",
      "source": [
        "data['popularity'].head()"
      ],
      "metadata": {
        "colab": {
          "base_uri": "https://localhost:8080/"
        },
        "id": "LEkm18_SeZ4D",
        "outputId": "34cf9fb5-3527-4f9e-c273-99bda2ec27df"
      },
      "execution_count": 123,
      "outputs": [
        {
          "output_type": "execute_result",
          "data": {
            "text/plain": [
              "0    49.178\n",
              "1    59.827\n",
              "2    89.023\n",
              "3    55.762\n",
              "4    45.095\n",
              "Name: popularity, dtype: float64"
            ]
          },
          "metadata": {},
          "execution_count": 123
        }
      ]
    },
    {
      "cell_type": "code",
      "source": [
        "data['popularity'].value_counts()"
      ],
      "metadata": {
        "colab": {
          "base_uri": "https://localhost:8080/"
        },
        "id": "H4DRroE0vNuS",
        "outputId": "43012b3a-e67c-4fa9-f60c-66db42d19cc6"
      },
      "execution_count": 124,
      "outputs": [
        {
          "output_type": "execute_result",
          "data": {
            "text/plain": [
              "0.000     425\n",
              "61.128      5\n",
              "59.218      4\n",
              "56.897      4\n",
              "60.220      4\n",
              "         ... \n",
              "10.826      1\n",
              "65.644      1\n",
              "74.370      1\n",
              "91.889      1\n",
              "25.263      1\n",
              "Name: popularity, Length: 12743, dtype: int64"
            ]
          },
          "metadata": {},
          "execution_count": 124
        }
      ]
    },
    {
      "cell_type": "code",
      "source": [
        "data['popularity'].isna().sum()"
      ],
      "metadata": {
        "colab": {
          "base_uri": "https://localhost:8080/"
        },
        "id": "fRjFG04sebrr",
        "outputId": "5868d4be-f917-4d53-f351-8befb0465fdf"
      },
      "execution_count": 125,
      "outputs": [
        {
          "output_type": "execute_result",
          "data": {
            "text/plain": [
              "642"
            ]
          },
          "metadata": {},
          "execution_count": 125
        }
      ]
    },
    {
      "cell_type": "code",
      "source": [
        "data['popularity']=data['popularity'].fillna(data['popularity'].median())"
      ],
      "metadata": {
        "id": "u-exxEPDebvy"
      },
      "execution_count": 126,
      "outputs": []
    },
    {
      "cell_type": "code",
      "source": [
        "data['popularity'].isna().sum()"
      ],
      "metadata": {
        "colab": {
          "base_uri": "https://localhost:8080/"
        },
        "id": "UGwjZIYWfFfX",
        "outputId": "e3f0ccc5-173e-476d-b237-40d7eb4a07b5"
      },
      "execution_count": 127,
      "outputs": [
        {
          "output_type": "execute_result",
          "data": {
            "text/plain": [
              "0"
            ]
          },
          "metadata": {},
          "execution_count": 127
        }
      ]
    },
    {
      "cell_type": "code",
      "source": [
        "data['popularity'].isnull().any()"
      ],
      "metadata": {
        "colab": {
          "base_uri": "https://localhost:8080/"
        },
        "id": "_8_4bgzCynEr",
        "outputId": "e8c59e4a-c52b-428e-82f6-7145bc49714e"
      },
      "execution_count": 128,
      "outputs": [
        {
          "output_type": "execute_result",
          "data": {
            "text/plain": [
              "False"
            ]
          },
          "metadata": {},
          "execution_count": 128
        }
      ]
    },
    {
      "cell_type": "code",
      "source": [
        "plt.figure(figsize=(10,7))\n",
        "sns.displot(data['popularity'],kind='kde',rug=True)"
      ],
      "metadata": {
        "colab": {
          "base_uri": "https://localhost:8080/",
          "height": 404
        },
        "id": "nHCkWwKBgN8y",
        "outputId": "5ea41e65-6862-44dc-a6a5-a9bad78c07e5"
      },
      "execution_count": 129,
      "outputs": [
        {
          "output_type": "execute_result",
          "data": {
            "text/plain": [
              "<seaborn.axisgrid.FacetGrid at 0x7f01ac2d8510>"
            ]
          },
          "metadata": {},
          "execution_count": 129
        },
        {
          "output_type": "display_data",
          "data": {
            "text/plain": [
              "<Figure size 720x504 with 0 Axes>"
            ]
          },
          "metadata": {}
        },
        {
          "output_type": "display_data",
          "data": {
            "image/png": "[encoded data removed]",
            "text/plain": [
              "<Figure size 360x360 with 1 Axes>"
            ]
          },
          "metadata": {
            "needs_background": "light"
          }
        }
      ]
    },
    {
      "cell_type": "code",
      "source": [
        "print(\"The Skewness of salary is:\",data['popularity'].skew())\n",
        "print(\"The kurtosis of salary is:\",data['popularity'].kurt())"
      ],
      "metadata": {
        "colab": {
          "base_uri": "https://localhost:8080/"
        },
        "id": "qPW7qqf4gaxa",
        "outputId": "124f9a0a-3099-4955-eaac-21a67b10bde2"
      },
      "execution_count": 130,
      "outputs": [
        {
          "output_type": "stream",
          "name": "stdout",
          "text": [
            "The Skewness of salary is: -0.7160590856865925\n",
            "The kurtosis of salary is: 0.7595529300172439\n"
          ]
        }
      ]
    },
    {
      "cell_type": "code",
      "source": [
        "plt.figure(figsize =(10, 7))\n",
        "plt.boxplot(data['popularity'])\n",
        "plt.show()"
      ],
      "metadata": {
        "colab": {
          "base_uri": "https://localhost:8080/",
          "height": 428
        },
        "id": "dtYegLUcfFhD",
        "outputId": "73a67265-78ee-44f6-b3dc-2a6c83f0416d"
      },
      "execution_count": 131,
      "outputs": [
        {
          "output_type": "display_data",
          "data": {
            "image/png": "[encoded data removed]",
            "text/plain": [
              "<Figure size 720x504 with 1 Axes>"
            ]
          },
          "metadata": {
            "needs_background": "light"
          }
        }
      ]
    },
    {
      "cell_type": "code",
      "source": [
        "def iqr(data):\n",
        "    outlier=[]\n",
        "    q1=data.quantile(0.25)\n",
        "    q3=data.quantile(0.75)\n",
        "    iqr=q3-q1\n",
        "    lower=q1-1.5*iqr\n",
        "    upper=q3+1.5*iqr\n",
        "    print('Lower limit: ',lower)\n",
        "    print(\"Upper limit: \",upper)\n",
        "    for i in data:\n",
        "        if i>upper or i< lower:\n",
        "            outlier.append(i)\n",
        "    return outlier"
      ],
      "metadata": {
        "id": "mJdiCbIJfFk_"
      },
      "execution_count": 132,
      "outputs": []
    },
    {
      "cell_type": "code",
      "source": [
        "outliers_popularity=(iqr(data['popularity']))\n",
        "print(len(outliers_popularity))"
      ],
      "metadata": {
        "colab": {
          "base_uri": "https://localhost:8080/"
        },
        "id": "acy5mCYZfFmd",
        "outputId": "0031620b-029c-4f5c-fc16-5e7e5765b3df"
      },
      "execution_count": 133,
      "outputs": [
        {
          "output_type": "stream",
          "name": "stdout",
          "text": [
            "Lower limit:  3.9390000000000143\n",
            "Upper limit:  98.53899999999999\n",
            "496\n"
          ]
        }
      ]
    },
    {
      "cell_type": "markdown",
      "source": [
        "## Dancebility"
      ],
      "metadata": {
        "id": "2K4A0RtSiYzR"
      }
    },
    {
      "cell_type": "code",
      "source": [
        "data['danceability'].head()"
      ],
      "metadata": {
        "colab": {
          "base_uri": "https://localhost:8080/"
        },
        "id": "V-yOi-BlieUL",
        "outputId": "95ac15a4-af25-43e0-c82c-c235b4566cfd"
      },
      "execution_count": 134,
      "outputs": [
        {
          "output_type": "execute_result",
          "data": {
            "text/plain": [
              "0    0.580508\n",
              "1    0.687542\n",
              "2    0.967948\n",
              "3    0.616287\n",
              "4    0.280645\n",
              "Name: danceability, dtype: float64"
            ]
          },
          "metadata": {},
          "execution_count": 134
        }
      ]
    },
    {
      "cell_type": "code",
      "source": [
        "data['danceability'].value_counts()"
      ],
      "metadata": {
        "colab": {
          "base_uri": "https://localhost:8080/"
        },
        "id": "-4IzJQv4vVy-",
        "outputId": "8e8cda6a-af7b-45d2-a3f1-ed8be29ebb5e"
      },
      "execution_count": 135,
      "outputs": [
        {
          "output_type": "execute_result",
          "data": {
            "text/plain": [
              "0.556014    1\n",
              "0.634143    1\n",
              "0.698457    1\n",
              "0.759957    1\n",
              "0.564296    1\n",
              "           ..\n",
              "0.341767    1\n",
              "0.671082    1\n",
              "0.616287    1\n",
              "0.894473    1\n",
              "0.707857    1\n",
              "Name: danceability, Length: 15125, dtype: int64"
            ]
          },
          "metadata": {},
          "execution_count": 135
        }
      ]
    },
    {
      "cell_type": "code",
      "source": [
        "data['danceability'].isna().sum()"
      ],
      "metadata": {
        "colab": {
          "base_uri": "https://localhost:8080/"
        },
        "id": "LbvTJAtlieV9",
        "outputId": "c099819a-9863-4cc0-9fa5-42a6e588e2f2"
      },
      "execution_count": 136,
      "outputs": [
        {
          "output_type": "execute_result",
          "data": {
            "text/plain": [
              "556"
            ]
          },
          "metadata": {},
          "execution_count": 136
        }
      ]
    },
    {
      "cell_type": "code",
      "source": [
        "data['danceability'].isnull().any()"
      ],
      "metadata": {
        "colab": {
          "base_uri": "https://localhost:8080/"
        },
        "id": "X5iw4ddJytNP",
        "outputId": "ab8e1e2e-a8fa-47a4-8b3a-da945b1b4b19"
      },
      "execution_count": 137,
      "outputs": [
        {
          "output_type": "execute_result",
          "data": {
            "text/plain": [
              "True"
            ]
          },
          "metadata": {},
          "execution_count": 137
        }
      ]
    },
    {
      "cell_type": "code",
      "source": [
        "data['danceability'].fillna(data['danceability'].median(),inplace=True)"
      ],
      "metadata": {
        "id": "W9AU6tVZieZi"
      },
      "execution_count": 138,
      "outputs": []
    },
    {
      "cell_type": "code",
      "source": [
        "data['danceability'].isna().sum()"
      ],
      "metadata": {
        "colab": {
          "base_uri": "https://localhost:8080/"
        },
        "id": "yeRe2svOiebL",
        "outputId": "8f806882-bd55-4b12-9735-f23f35ace04a"
      },
      "execution_count": 139,
      "outputs": [
        {
          "output_type": "execute_result",
          "data": {
            "text/plain": [
              "0"
            ]
          },
          "metadata": {},
          "execution_count": 139
        }
      ]
    },
    {
      "cell_type": "code",
      "source": [
        "plt.figure(figsize=(10,7))\n",
        "plt.boxplot(data['danceability'])\n",
        "plt.plot()"
      ],
      "metadata": {
        "colab": {
          "base_uri": "https://localhost:8080/",
          "height": 446
        },
        "id": "Gk47TbDGieeg",
        "outputId": "9c5edaa4-d9f7-4564-cb8e-66c36a1ccd50"
      },
      "execution_count": 140,
      "outputs": [
        {
          "output_type": "execute_result",
          "data": {
            "text/plain": [
              "[]"
            ]
          },
          "metadata": {},
          "execution_count": 140
        },
        {
          "output_type": "display_data",
          "data": {
            "image/png": "[encoded data removed]",
            "text/plain": [
              "<Figure size 720x504 with 1 Axes>"
            ]
          },
          "metadata": {
            "needs_background": "light"
          }
        }
      ]
    },
    {
      "cell_type": "markdown",
      "source": [
        "## Duration_ms"
      ],
      "metadata": {
        "id": "ftJQWiolj3yH"
      }
    },
    {
      "cell_type": "code",
      "source": [
        "data['duration_ms'].head()"
      ],
      "metadata": {
        "colab": {
          "base_uri": "https://localhost:8080/"
        },
        "id": "HvfqyNH7j5wH",
        "outputId": "d0de17ae-1294-4ecf-b54d-43525026a7ad"
      },
      "execution_count": 141,
      "outputs": [
        {
          "output_type": "execute_result",
          "data": {
            "text/plain": [
              "0    214625.776\n",
              "1    216232.195\n",
              "2    273314.723\n",
              "3    189189.605\n",
              "4    410136.987\n",
              "Name: duration_ms, dtype: float64"
            ]
          },
          "metadata": {},
          "execution_count": 141
        }
      ]
    },
    {
      "cell_type": "code",
      "source": [
        "data['duration_ms'].value_counts()"
      ],
      "metadata": {
        "colab": {
          "base_uri": "https://localhost:8080/"
        },
        "id": "2915E9pXut34",
        "outputId": "1004f8c9-2c18-4376-ac56-fe38d8eb86d8"
      },
      "execution_count": 142,
      "outputs": [
        {
          "output_type": "execute_result",
          "data": {
            "text/plain": [
              "-1.000         1577\n",
              " 273597.170       1\n",
              " 281382.692       1\n",
              " 204858.363       1\n",
              " 173165.779       1\n",
              "               ... \n",
              " 112103.424       1\n",
              " 259522.836       1\n",
              " 214312.409       1\n",
              " 384334.280       1\n",
              " 155625.444       1\n",
              "Name: duration_ms, Length: 14011, dtype: int64"
            ]
          },
          "metadata": {},
          "execution_count": 142
        }
      ]
    },
    {
      "cell_type": "code",
      "source": [
        "data['duration_ms'].isna().sum()"
      ],
      "metadata": {
        "colab": {
          "base_uri": "https://localhost:8080/"
        },
        "id": "wUWNVA59j5xt",
        "outputId": "f6228adf-595e-452a-cdad-90fd6a0fa702"
      },
      "execution_count": 143,
      "outputs": [
        {
          "output_type": "execute_result",
          "data": {
            "text/plain": [
              "94"
            ]
          },
          "metadata": {},
          "execution_count": 143
        }
      ]
    },
    {
      "cell_type": "code",
      "source": [
        "data['duration_ms'].fillna(data['duration_ms'].median(),inplace=True)"
      ],
      "metadata": {
        "id": "ELeBWvxlj51b"
      },
      "execution_count": 144,
      "outputs": []
    },
    {
      "cell_type": "code",
      "source": [
        "data['duration_ms'].isnull().any()"
      ],
      "metadata": {
        "colab": {
          "base_uri": "https://localhost:8080/"
        },
        "id": "nv5-PAQvyzBU",
        "outputId": "74541c28-d368-4c11-c211-ec581b128fd1"
      },
      "execution_count": 145,
      "outputs": [
        {
          "output_type": "execute_result",
          "data": {
            "text/plain": [
              "False"
            ]
          },
          "metadata": {},
          "execution_count": 145
        }
      ]
    },
    {
      "cell_type": "code",
      "source": [
        "data['duration_ms'].replace(to_replace=-1,value=data['duration_ms'].median(),inplace=True)"
      ],
      "metadata": {
        "id": "_b5F_s76u8ro"
      },
      "execution_count": 146,
      "outputs": []
    },
    {
      "cell_type": "code",
      "source": [
        "data['duration_ms'].value_counts()"
      ],
      "metadata": {
        "colab": {
          "base_uri": "https://localhost:8080/"
        },
        "id": "4T5DFTM_vIxC",
        "outputId": "0fbde8f9-c6d5-4480-ced9-b94fdcc2ae28"
      },
      "execution_count": 147,
      "outputs": [
        {
          "output_type": "execute_result",
          "data": {
            "text/plain": [
              "236212.737    1672\n",
              "252170.030       1\n",
              "339851.020       1\n",
              "173165.779       1\n",
              "109325.721       1\n",
              "              ... \n",
              "259522.836       1\n",
              "214312.409       1\n",
              "384334.280       1\n",
              "230326.079       1\n",
              "254353.499       1\n",
              "Name: duration_ms, Length: 14010, dtype: int64"
            ]
          },
          "metadata": {},
          "execution_count": 147
        }
      ]
    },
    {
      "cell_type": "code",
      "source": [
        "data['duration_ms'].isna().sum()"
      ],
      "metadata": {
        "colab": {
          "base_uri": "https://localhost:8080/"
        },
        "id": "oNWqmzMTj53D",
        "outputId": "9c90e2d5-e47f-411c-d6e2-d6158de8fcb2"
      },
      "execution_count": 148,
      "outputs": [
        {
          "output_type": "execute_result",
          "data": {
            "text/plain": [
              "0"
            ]
          },
          "metadata": {},
          "execution_count": 148
        }
      ]
    },
    {
      "cell_type": "code",
      "source": [
        "plt.figure(figsize=(10,7))\n",
        "plt.boxplot(data['duration_ms'])\n",
        "plt.plot()"
      ],
      "metadata": {
        "colab": {
          "base_uri": "https://localhost:8080/",
          "height": 456
        },
        "id": "FlKlXGYJj57T",
        "outputId": "b7ac5a53-b57f-43d2-9153-c5db4b002f0f"
      },
      "execution_count": 149,
      "outputs": [
        {
          "output_type": "execute_result",
          "data": {
            "text/plain": [
              "[]"
            ]
          },
          "metadata": {},
          "execution_count": 149
        },
        {
          "output_type": "display_data",
          "data": {
            "image/png": "[encoded data removed]",
            "text/plain": [
              "<Figure size 720x504 with 1 Axes>"
            ]
          },
          "metadata": {
            "needs_background": "light"
          }
        }
      ]
    },
    {
      "cell_type": "code",
      "source": [
        "outliers_dms=iqr(data['duration_ms'])\n",
        "print(len(outliers_dms))"
      ],
      "metadata": {
        "colab": {
          "base_uri": "https://localhost:8080/"
        },
        "id": "lJHmYlJikUlx",
        "outputId": "98208fce-1b99-498a-8099-3ea5ba98bf85"
      },
      "execution_count": 150,
      "outputs": [
        {
          "output_type": "stream",
          "name": "stdout",
          "text": [
            "Lower limit:  78676.2765\n",
            "Upper limit:  427985.84050000005\n",
            "1364\n"
          ]
        }
      ]
    },
    {
      "cell_type": "markdown",
      "source": [
        "## Energy"
      ],
      "metadata": {
        "id": "2wWLZMpSroQp"
      }
    },
    {
      "cell_type": "code",
      "source": [
        "data['energy'].head()"
      ],
      "metadata": {
        "colab": {
          "base_uri": "https://localhost:8080/"
        },
        "id": "WWsT5Q68kUnR",
        "outputId": "09223251-f5f0-4732-89de-c93d173428b7"
      },
      "execution_count": 151,
      "outputs": [
        {
          "output_type": "execute_result",
          "data": {
            "text/plain": [
              "0    0.192107\n",
              "1    0.265942\n",
              "2    0.857411\n",
              "3    0.970513\n",
              "4    0.114732\n",
              "Name: energy, dtype: float64"
            ]
          },
          "metadata": {},
          "execution_count": 151
        }
      ]
    },
    {
      "cell_type": "code",
      "source": [
        "data['energy'].value_counts()"
      ],
      "metadata": {
        "colab": {
          "base_uri": "https://localhost:8080/"
        },
        "id": "RFY3OEO5vZ7d",
        "outputId": "829cdeb6-5787-4ac7-d7d9-0a4b1888da87"
      },
      "execution_count": 152,
      "outputs": [
        {
          "output_type": "execute_result",
          "data": {
            "text/plain": [
              "-1.000000    1217\n",
              " 0.819021       1\n",
              " 0.689365       1\n",
              " 0.667187       1\n",
              " 0.638717       1\n",
              "             ... \n",
              " 0.117919       1\n",
              " 0.158754       1\n",
              " 0.820201       1\n",
              " 0.988438       1\n",
              " 0.643425       1\n",
              "Name: energy, Length: 14371, dtype: int64"
            ]
          },
          "metadata": {},
          "execution_count": 152
        }
      ]
    },
    {
      "cell_type": "code",
      "source": [
        "data['energy'].isna().sum()"
      ],
      "metadata": {
        "colab": {
          "base_uri": "https://localhost:8080/"
        },
        "id": "fdRUDkRzkUt8",
        "outputId": "d49baa60-1819-40bd-f901-411ad7de430a"
      },
      "execution_count": 153,
      "outputs": [
        {
          "output_type": "execute_result",
          "data": {
            "text/plain": [
              "94"
            ]
          },
          "metadata": {},
          "execution_count": 153
        }
      ]
    },
    {
      "cell_type": "code",
      "source": [
        "\n",
        "data['energy'].fillna(data['energy'].median(),inplace=True)"
      ],
      "metadata": {
        "id": "Fd_UK7ZEvEuP"
      },
      "execution_count": 154,
      "outputs": []
    },
    {
      "cell_type": "code",
      "source": [
        "data['energy'].isnull().any()"
      ],
      "metadata": {
        "colab": {
          "base_uri": "https://localhost:8080/"
        },
        "id": "ZQQDbqeoy7RV",
        "outputId": "b997ec9f-475f-467f-930b-a45648377bef"
      },
      "execution_count": 155,
      "outputs": [
        {
          "output_type": "execute_result",
          "data": {
            "text/plain": [
              "False"
            ]
          },
          "metadata": {},
          "execution_count": 155
        }
      ]
    },
    {
      "cell_type": "code",
      "source": [
        "data['energy'].replace(to_replace=-1,value=data['energy'].median(),inplace=True)"
      ],
      "metadata": {
        "id": "CuKtxD2DvjMB"
      },
      "execution_count": 156,
      "outputs": []
    },
    {
      "cell_type": "code",
      "source": [
        "data['energy'].value_counts()"
      ],
      "metadata": {
        "colab": {
          "base_uri": "https://localhost:8080/"
        },
        "id": "DgmbOJ_0vofq",
        "outputId": "dd555927-ab64-412a-abf2-0e97be644b31"
      },
      "execution_count": 157,
      "outputs": [
        {
          "output_type": "execute_result",
          "data": {
            "text/plain": [
              "0.560389    1312\n",
              "0.634185       1\n",
              "0.948112       1\n",
              "0.638717       1\n",
              "1.018733       1\n",
              "            ... \n",
              "0.820201       1\n",
              "0.988438       1\n",
              "0.247439       1\n",
              "0.932241       1\n",
              "0.985751       1\n",
              "Name: energy, Length: 14370, dtype: int64"
            ]
          },
          "metadata": {},
          "execution_count": 157
        }
      ]
    },
    {
      "cell_type": "code",
      "source": [
        "data['energy'].isna().sum()"
      ],
      "metadata": {
        "colab": {
          "base_uri": "https://localhost:8080/"
        },
        "id": "WngeuxmyvEv1",
        "outputId": "98888bc2-7d80-4a50-ab1a-efae515e3333"
      },
      "execution_count": 158,
      "outputs": [
        {
          "output_type": "execute_result",
          "data": {
            "text/plain": [
              "0"
            ]
          },
          "metadata": {},
          "execution_count": 158
        }
      ]
    },
    {
      "cell_type": "code",
      "source": [
        "plt.figure(figsize=(10,7))\n",
        "plt.boxplot(data['energy'])\n",
        "plt.plot()"
      ],
      "metadata": {
        "colab": {
          "base_uri": "https://localhost:8080/",
          "height": 446
        },
        "id": "3j-_OQJbvEzs",
        "outputId": "97409833-fcbe-4319-9c6b-8295058c8927"
      },
      "execution_count": 159,
      "outputs": [
        {
          "output_type": "execute_result",
          "data": {
            "text/plain": [
              "[]"
            ]
          },
          "metadata": {},
          "execution_count": 159
        },
        {
          "output_type": "display_data",
          "data": {
            "image/png": "[encoded data removed]",
            "text/plain": [
              "<Figure size 720x504 with 1 Axes>"
            ]
          },
          "metadata": {
            "needs_background": "light"
          }
        }
      ]
    },
    {
      "cell_type": "markdown",
      "source": [
        "## Instrumentalness"
      ],
      "metadata": {
        "id": "pvlPDuZ5vgPj"
      }
    },
    {
      "cell_type": "code",
      "source": [
        "data['instrumentalness'].head()"
      ],
      "metadata": {
        "colab": {
          "base_uri": "https://localhost:8080/"
        },
        "id": "8tR9rl_0vkUO",
        "outputId": "f30ba61c-eb1d-49a0-beac-64a8facee0f0"
      },
      "execution_count": 160,
      "outputs": [
        {
          "output_type": "execute_result",
          "data": {
            "text/plain": [
              "0    0.000000\n",
              "1    0.000031\n",
              "2    0.000000\n",
              "3    0.000220\n",
              "4    0.002753\n",
              "Name: instrumentalness, dtype: float64"
            ]
          },
          "metadata": {},
          "execution_count": 160
        }
      ]
    },
    {
      "cell_type": "code",
      "source": [
        "data['instrumentalness'].value_counts()"
      ],
      "metadata": {
        "colab": {
          "base_uri": "https://localhost:8080/"
        },
        "id": "3Dnfz00Rvtyg",
        "outputId": "bab0103c-b18c-4548-d9e4-499a75d72ae0"
      },
      "execution_count": 161,
      "outputs": [
        {
          "output_type": "execute_result",
          "data": {
            "text/plain": [
              "0.000000    4368\n",
              "0.017232       1\n",
              "1.005029       1\n",
              "0.000302       1\n",
              "0.001027       1\n",
              "            ... \n",
              "0.003082       1\n",
              "0.896949       1\n",
              "0.000125       1\n",
              "0.007162       1\n",
              "1.035146       1\n",
              "Name: instrumentalness, Length: 11219, dtype: int64"
            ]
          },
          "metadata": {},
          "execution_count": 161
        }
      ]
    },
    {
      "cell_type": "code",
      "source": [
        "data['instrumentalness'].isna().sum()"
      ],
      "metadata": {
        "colab": {
          "base_uri": "https://localhost:8080/"
        },
        "id": "T5OE1vabvkVx",
        "outputId": "c0def8ff-a456-477b-821c-7a6553ac4ea4"
      },
      "execution_count": 162,
      "outputs": [
        {
          "output_type": "execute_result",
          "data": {
            "text/plain": [
              "95"
            ]
          },
          "metadata": {},
          "execution_count": 162
        }
      ]
    },
    {
      "cell_type": "code",
      "source": [
        "data['instrumentalness'].fillna(data['instrumentalness'].median(),inplace=True)"
      ],
      "metadata": {
        "id": "CHB7qWnhvkZv"
      },
      "execution_count": 163,
      "outputs": []
    },
    {
      "cell_type": "code",
      "source": [
        "data['instrumentalness'].isnull().any()"
      ],
      "metadata": {
        "colab": {
          "base_uri": "https://localhost:8080/"
        },
        "id": "U0IG8ZNry_L9",
        "outputId": "a19110e3-7028-44d0-8f2c-31a1b984f711"
      },
      "execution_count": 164,
      "outputs": [
        {
          "output_type": "execute_result",
          "data": {
            "text/plain": [
              "False"
            ]
          },
          "metadata": {},
          "execution_count": 164
        }
      ]
    },
    {
      "cell_type": "code",
      "source": [
        "data['instrumentalness'].isna().sum()"
      ],
      "metadata": {
        "colab": {
          "base_uri": "https://localhost:8080/"
        },
        "id": "9x3Z2uxRvkbS",
        "outputId": "1c058038-7713-4259-ab7e-cdc00bad4f54"
      },
      "execution_count": 165,
      "outputs": [
        {
          "output_type": "execute_result",
          "data": {
            "text/plain": [
              "0"
            ]
          },
          "metadata": {},
          "execution_count": 165
        }
      ]
    },
    {
      "cell_type": "code",
      "source": [
        "plt.figure(figsize=(10,7))\n",
        "plt.boxplot(data['energy'])\n",
        "plt.plot()"
      ],
      "metadata": {
        "colab": {
          "base_uri": "https://localhost:8080/",
          "height": 446
        },
        "id": "7VMnz0tKvkfb",
        "outputId": "b32aba6c-df01-47e7-f491-6cd6df6fdbfd"
      },
      "execution_count": 166,
      "outputs": [
        {
          "output_type": "execute_result",
          "data": {
            "text/plain": [
              "[]"
            ]
          },
          "metadata": {},
          "execution_count": 166
        },
        {
          "output_type": "display_data",
          "data": {
            "image/png": "[encoded data removed]",
            "text/plain": [
              "<Figure size 720x504 with 1 Axes>"
            ]
          },
          "metadata": {
            "needs_background": "light"
          }
        }
      ]
    },
    {
      "cell_type": "markdown",
      "source": [
        "## Key"
      ],
      "metadata": {
        "id": "RYQUEwu_u4gu"
      }
    },
    {
      "cell_type": "code",
      "source": [
        "print(\"Printing all the unique value of key:-\")\n",
        "print(data.key.unique())\n",
        "print()\n",
        "print(\"Counting all the values of key:-\")\n",
        "print(data.key.value_counts())\n"
      ],
      "metadata": {
        "colab": {
          "base_uri": "https://localhost:8080/"
        },
        "id": "YwTN5Ebs3RtS",
        "outputId": "87bfb49b-a981-45d5-880d-38048354eab5"
      },
      "execution_count": 167,
      "outputs": [
        {
          "output_type": "stream",
          "name": "stdout",
          "text": [
            "Printing all the unique value of key:-\n",
            "['Scale E' 'Scale A' 'Scale D' 'Scale F Sharp' 'Scale G Sharp'\n",
            " 'Scale C Sharp' 'Scale A Sharp' 'Scale F' 'Scale G' 'Scale B' 'Scale C'\n",
            " 'Scale D Sharp']\n",
            "\n",
            "Counting all the values of key:-\n",
            "Scale C          1771\n",
            "Scale G          1730\n",
            "Scale D          1695\n",
            "Scale C Sharp    1633\n",
            "Scale A          1479\n",
            "Scale F          1419\n",
            "Scale E          1210\n",
            "Scale A Sharp    1142\n",
            "Scale B          1059\n",
            "Scale G Sharp    1023\n",
            "Scale F Sharp     916\n",
            "Scale D Sharp     604\n",
            "Name: key, dtype: int64\n"
          ]
        }
      ]
    },
    {
      "cell_type": "code",
      "source": [
        "plt.figure(figsize=(8,8))\n",
        "sns.countplot(x=data['key'],palette='rainbow')\n",
        "plt.xticks(rotation=45)"
      ],
      "metadata": {
        "colab": {
          "base_uri": "https://localhost:8080/",
          "height": 578
        },
        "id": "i8dUnv39wssw",
        "outputId": "c7704718-cd1e-4ab4-aa6f-13dad01f64b6"
      },
      "execution_count": 168,
      "outputs": [
        {
          "output_type": "execute_result",
          "data": {
            "text/plain": [
              "(array([ 0,  1,  2,  3,  4,  5,  6,  7,  8,  9, 10, 11]),\n",
              " <a list of 12 Text major ticklabel objects>)"
            ]
          },
          "metadata": {},
          "execution_count": 168
        },
        {
          "output_type": "display_data",
          "data": {
            "image/png": "[encoded data removed]",
            "text/plain": [
              "<Figure size 576x576 with 1 Axes>"
            ]
          },
          "metadata": {
            "needs_background": "light"
          }
        }
      ]
    },
    {
      "cell_type": "markdown",
      "source": [
        "## Voice_Gender"
      ],
      "metadata": {
        "id": "w2zCiBSNv-42"
      }
    },
    {
      "cell_type": "code",
      "source": [
        "print(\"Printing all the unique values of gender:-\")\n",
        "print(data.voice_gender.unique())\n",
        "print()\n",
        "print(\"Counting all the unique values:-\")\n",
        "print(data.voice_gender.value_counts())"
      ],
      "metadata": {
        "colab": {
          "base_uri": "https://localhost:8080/"
        },
        "id": "BVcBIohZ3Ryf",
        "outputId": "4ad4db8a-380d-429e-f5b9-3d4ea62ca492"
      },
      "execution_count": 169,
      "outputs": [
        {
          "output_type": "stream",
          "name": "stdout",
          "text": [
            "Printing all the unique values of gender:-\n",
            "[nan 'Male' 'Female' 'Both']\n",
            "\n",
            "Counting all the unique values:-\n",
            "Female    5050\n",
            "Male      4953\n",
            "Both      4913\n",
            "Name: voice_gender, dtype: int64\n"
          ]
        }
      ]
    },
    {
      "cell_type": "code",
      "source": [
        "data['voice_gender'].isna().sum()"
      ],
      "metadata": {
        "colab": {
          "base_uri": "https://localhost:8080/"
        },
        "id": "6p_fOJ5VwHFg",
        "outputId": "40f29fa4-2cc9-4fb2-fa84-09902a3b631e"
      },
      "execution_count": 170,
      "outputs": [
        {
          "output_type": "execute_result",
          "data": {
            "text/plain": [
              "765"
            ]
          },
          "metadata": {},
          "execution_count": 170
        }
      ]
    },
    {
      "cell_type": "code",
      "source": [
        "data['voice_gender'].fillna(data['voice_gender'].mode()[0],inplace=True)\n",
        "print(\"Printing all the unique values of gender:-\")\n",
        "print(data.voice_gender.unique())"
      ],
      "metadata": {
        "colab": {
          "base_uri": "https://localhost:8080/"
        },
        "id": "nQLctEzOYoii",
        "outputId": "9e87fbe9-7659-4572-91f4-75c01905b02e"
      },
      "execution_count": 171,
      "outputs": [
        {
          "output_type": "stream",
          "name": "stdout",
          "text": [
            "Printing all the unique values of gender:-\n",
            "['Female' 'Male' 'Both']\n"
          ]
        }
      ]
    },
    {
      "cell_type": "code",
      "source": [
        "print(data.voice_gender.value_counts())\n",
        "print(data['voice_gender'].isna().sum())"
      ],
      "metadata": {
        "colab": {
          "base_uri": "https://localhost:8080/"
        },
        "id": "PdbwQKkkbPI8",
        "outputId": "b214b6fc-214f-4244-c13c-014c4b377ebb"
      },
      "execution_count": 172,
      "outputs": [
        {
          "output_type": "stream",
          "name": "stdout",
          "text": [
            "Female    5815\n",
            "Male      4953\n",
            "Both      4913\n",
            "Name: voice_gender, dtype: int64\n",
            "0\n"
          ]
        }
      ]
    },
    {
      "cell_type": "code",
      "source": [
        "plt.figure(figsize=(8,8))\n",
        "sns.countplot(x=data['voice_gender'],palette='rainbow')\n",
        "plt.xticks(rotation=45)"
      ],
      "metadata": {
        "colab": {
          "base_uri": "https://localhost:8080/",
          "height": 538
        },
        "id": "IdORhQAoxJlL",
        "outputId": "b8a1543d-59b6-4caf-d296-013c9bfaad0a"
      },
      "execution_count": 173,
      "outputs": [
        {
          "output_type": "execute_result",
          "data": {
            "text/plain": [
              "(array([0, 1, 2]), <a list of 3 Text major ticklabel objects>)"
            ]
          },
          "metadata": {},
          "execution_count": 173
        },
        {
          "output_type": "display_data",
          "data": {
            "image/png": "[encoded data removed]",
            "text/plain": [
              "<Figure size 576x576 with 1 Axes>"
            ]
          },
          "metadata": {
            "needs_background": "light"
          }
        }
      ]
    },
    {
      "cell_type": "markdown",
      "source": [
        "## Mode"
      ],
      "metadata": {
        "id": "4x_PpOsDxQKI"
      }
    },
    {
      "cell_type": "code",
      "source": [
        "print(\"Printing all the unique values of mode:-\")\n",
        "print(data['mode'].unique())\n",
        "print()\n",
        "print(\"Counting all the unique values of mode:-\")\n",
        "print(data['mode'].value_counts())"
      ],
      "metadata": {
        "colab": {
          "base_uri": "https://localhost:8080/"
        },
        "id": "IkTAm1WF3Rz6",
        "outputId": "3d98335e-1a62-4386-ffdd-df03fb52617e"
      },
      "execution_count": 174,
      "outputs": [
        {
          "output_type": "stream",
          "name": "stdout",
          "text": [
            "Printing all the unique values of mode:-\n",
            "['Major' '?' 'Minor' nan]\n",
            "\n",
            "Counting all the unique values of mode:-\n",
            "Major    9210\n",
            "Minor    5357\n",
            "?        1079\n",
            "Name: mode, dtype: int64\n"
          ]
        }
      ]
    },
    {
      "cell_type": "code",
      "source": [
        "data['mode'].isna().sum()"
      ],
      "metadata": {
        "colab": {
          "base_uri": "https://localhost:8080/"
        },
        "id": "-WwvBJ2NxgLU",
        "outputId": "2c811e6f-37a7-4f8a-cd31-d1274659614c"
      },
      "execution_count": 175,
      "outputs": [
        {
          "output_type": "execute_result",
          "data": {
            "text/plain": [
              "35"
            ]
          },
          "metadata": {},
          "execution_count": 175
        }
      ]
    },
    {
      "cell_type": "code",
      "source": [
        "data['mode'].replace(to_replace='?',value=np.nan,inplace=True)"
      ],
      "metadata": {
        "id": "BzxdpHL53R49"
      },
      "execution_count": 176,
      "outputs": []
    },
    {
      "cell_type": "code",
      "source": [
        "data['mode'].isna().sum()"
      ],
      "metadata": {
        "colab": {
          "base_uri": "https://localhost:8080/"
        },
        "id": "pbeY-TfTxmB6",
        "outputId": "e2b4d4d9-16c3-4b74-f1b5-b58facfac0fc"
      },
      "execution_count": 177,
      "outputs": [
        {
          "output_type": "execute_result",
          "data": {
            "text/plain": [
              "1114"
            ]
          },
          "metadata": {},
          "execution_count": 177
        }
      ]
    },
    {
      "cell_type": "code",
      "source": [
        "data['mode'].fillna(data['mode'].mode()[0],inplace=True)"
      ],
      "metadata": {
        "id": "w-vW-ezxxoX6"
      },
      "execution_count": 178,
      "outputs": []
    },
    {
      "cell_type": "code",
      "source": [
        "print(\"Printing all the unique values of mode:-\")\n",
        "print(data['mode'].unique())\n",
        "print()\n",
        "print(\"Counting all the unique values of mode:-\")\n",
        "print(data['mode'].value_counts())"
      ],
      "metadata": {
        "colab": {
          "base_uri": "https://localhost:8080/"
        },
        "id": "cw6B-lI46uNo",
        "outputId": "2ba062ae-09b3-4d0b-f0f6-d0641afbddd3"
      },
      "execution_count": 179,
      "outputs": [
        {
          "output_type": "stream",
          "name": "stdout",
          "text": [
            "Printing all the unique values of mode:-\n",
            "['Major' 'Minor']\n",
            "\n",
            "Counting all the unique values of mode:-\n",
            "Major    10324\n",
            "Minor     5357\n",
            "Name: mode, dtype: int64\n"
          ]
        }
      ]
    },
    {
      "cell_type": "code",
      "source": [
        "plt.figure(figsize=(8,8))\n",
        "sns.countplot(x=data['mode'],palette='rainbow')\n",
        "plt.xticks(rotation=45)"
      ],
      "metadata": {
        "colab": {
          "base_uri": "https://localhost:8080/",
          "height": 531
        },
        "id": "4Cad-7qwx0-S",
        "outputId": "18fd24a0-a02d-474a-8fde-df9c431d05bf"
      },
      "execution_count": 180,
      "outputs": [
        {
          "output_type": "execute_result",
          "data": {
            "text/plain": [
              "(array([0, 1]), <a list of 2 Text major ticklabel objects>)"
            ]
          },
          "metadata": {},
          "execution_count": 180
        },
        {
          "output_type": "display_data",
          "data": {
            "image/png": "[encoded data removed]",
            "text/plain": [
              "<Figure size 576x576 with 1 Axes>"
            ]
          },
          "metadata": {
            "needs_background": "light"
          }
        }
      ]
    },
    {
      "cell_type": "markdown",
      "source": [
        "## Speechiness "
      ],
      "metadata": {
        "id": "SOZxW4tSyFQs"
      }
    },
    {
      "cell_type": "code",
      "source": [
        "data['speechiness'].head()"
      ],
      "metadata": {
        "colab": {
          "base_uri": "https://localhost:8080/"
        },
        "id": "3CAcIBo1yI6l",
        "outputId": "80a56125-565b-4cb0-be02-07dcdc310245"
      },
      "execution_count": 181,
      "outputs": [
        {
          "output_type": "execute_result",
          "data": {
            "text/plain": [
              "0    0.046404\n",
              "1    0.039949\n",
              "2    0.119917\n",
              "3    0.167493\n",
              "4    0.039139\n",
              "Name: speechiness, dtype: float64"
            ]
          },
          "metadata": {},
          "execution_count": 181
        }
      ]
    },
    {
      "cell_type": "code",
      "source": [
        "data['speechiness'].value_counts()"
      ],
      "metadata": {
        "colab": {
          "base_uri": "https://localhost:8080/"
        },
        "id": "RFkZ23EhwFCe",
        "outputId": "89b4684d-f3cd-42ed-8e21-a95f2f71d4a6"
      },
      "execution_count": 182,
      "outputs": [
        {
          "output_type": "execute_result",
          "data": {
            "text/plain": [
              "0.117364    1\n",
              "0.365236    1\n",
              "0.036513    1\n",
              "0.039474    1\n",
              "0.126350    1\n",
              "           ..\n",
              "0.053269    1\n",
              "0.040512    1\n",
              "0.379777    1\n",
              "0.030869    1\n",
              "0.039236    1\n",
              "Name: speechiness, Length: 15655, dtype: int64"
            ]
          },
          "metadata": {},
          "execution_count": 182
        }
      ]
    },
    {
      "cell_type": "code",
      "source": [
        "data['speechiness'].isna().sum()"
      ],
      "metadata": {
        "colab": {
          "base_uri": "https://localhost:8080/"
        },
        "id": "fyPrWQ0SyI8Q",
        "outputId": "51d66211-b05d-4986-9d68-dc1729c5f684"
      },
      "execution_count": 183,
      "outputs": [
        {
          "output_type": "execute_result",
          "data": {
            "text/plain": [
              "26"
            ]
          },
          "metadata": {},
          "execution_count": 183
        }
      ]
    },
    {
      "cell_type": "code",
      "source": [
        "data['speechiness'].fillna(data['speechiness'].median(),inplace=True)"
      ],
      "metadata": {
        "id": "1N-APGF3yJAO"
      },
      "execution_count": 184,
      "outputs": []
    },
    {
      "cell_type": "code",
      "source": [
        "data['speechiness'].isna().sum()"
      ],
      "metadata": {
        "colab": {
          "base_uri": "https://localhost:8080/"
        },
        "id": "vm4CMis8yJB_",
        "outputId": "a0e912c1-c230-410c-baea-63941b2daa25"
      },
      "execution_count": 185,
      "outputs": [
        {
          "output_type": "execute_result",
          "data": {
            "text/plain": [
              "0"
            ]
          },
          "metadata": {},
          "execution_count": 185
        }
      ]
    },
    {
      "cell_type": "code",
      "source": [
        "plt.figure(figsize=(10,7))\n",
        "plt.boxplot(data['speechiness'])\n",
        "plt.plot()"
      ],
      "metadata": {
        "colab": {
          "base_uri": "https://localhost:8080/",
          "height": 446
        },
        "id": "utKVfVFtyJGD",
        "outputId": "de9d56cd-9967-404a-e1db-2670e3fcef76"
      },
      "execution_count": 186,
      "outputs": [
        {
          "output_type": "execute_result",
          "data": {
            "text/plain": [
              "[]"
            ]
          },
          "metadata": {},
          "execution_count": 186
        },
        {
          "output_type": "display_data",
          "data": {
            "image/png": "[encoded data removed]",
            "text/plain": [
              "<Figure size 720x504 with 1 Axes>"
            ]
          },
          "metadata": {
            "needs_background": "light"
          }
        }
      ]
    },
    {
      "cell_type": "markdown",
      "source": [
        "## Tempo"
      ],
      "metadata": {
        "id": "BWA-D3xax-K3"
      }
    },
    {
      "cell_type": "code",
      "source": [
        "data['tempo'].head()"
      ],
      "metadata": {
        "colab": {
          "base_uri": "https://localhost:8080/"
        },
        "id": "_VS4t7nEy3lS",
        "outputId": "dd8d9e38-739a-47bf-9c42-550599797795"
      },
      "execution_count": 187,
      "outputs": [
        {
          "output_type": "execute_result",
          "data": {
            "text/plain": [
              "0    143.78799999999998\n",
              "1                     ?\n",
              "2    105.01799999999999\n",
              "3                     ?\n",
              "4    112.18299999999999\n",
              "Name: tempo, dtype: object"
            ]
          },
          "metadata": {},
          "execution_count": 187
        }
      ]
    },
    {
      "cell_type": "code",
      "source": [
        "data['tempo'].value_counts()"
      ],
      "metadata": {
        "colab": {
          "base_uri": "https://localhost:8080/"
        },
        "id": "YPPd41lbwMub",
        "outputId": "44986243-3189-4bec-d901-0aeea3e7dd74"
      },
      "execution_count": 188,
      "outputs": [
        {
          "output_type": "execute_result",
          "data": {
            "text/plain": [
              "?                     1476\n",
              "100.014                  6\n",
              "100.01                   6\n",
              "100.00299999999999       6\n",
              "100.012                  5\n",
              "                      ... \n",
              "144.928                  1\n",
              "145.07399999999998       1\n",
              "137.98                   1\n",
              "129.594                  1\n",
              "102.29899999999999       1\n",
              "Name: tempo, Length: 12332, dtype: int64"
            ]
          },
          "metadata": {},
          "execution_count": 188
        }
      ]
    },
    {
      "cell_type": "code",
      "source": [
        "data['tempo'].replace(to_replace='?',value=np.nan,inplace=True)"
      ],
      "metadata": {
        "id": "lwpzrpQdy3vQ"
      },
      "execution_count": 189,
      "outputs": []
    },
    {
      "cell_type": "code",
      "source": [
        "print(\"Printing all the unique values of tempo:-\")\n",
        "print(data['tempo'].unique())\n",
        "print()\n",
        "print(\"Counting all the unique values of tempo:-\")\n",
        "print(data['tempo'].value_counts())"
      ],
      "metadata": {
        "colab": {
          "base_uri": "https://localhost:8080/"
        },
        "id": "yn893N2j7gAq",
        "outputId": "aa6b98a5-28a2-480e-b1f6-45f624917dd3"
      },
      "execution_count": 190,
      "outputs": [
        {
          "output_type": "stream",
          "name": "stdout",
          "text": [
            "Printing all the unique values of tempo:-\n",
            "['143.78799999999998' nan '105.01799999999999' ... '129.445' '123.17'\n",
            " '94.2']\n",
            "\n",
            "Counting all the unique values of tempo:-\n",
            "100.01                6\n",
            "100.014               6\n",
            "100.00299999999999    6\n",
            "120.012               5\n",
            "100.01100000000001    5\n",
            "                     ..\n",
            "134.984               1\n",
            "123.993               1\n",
            "89.936                1\n",
            "129.874               1\n",
            "131.918               1\n",
            "Name: tempo, Length: 12331, dtype: int64\n"
          ]
        }
      ]
    },
    {
      "cell_type": "code",
      "source": [
        "data['tempo'].isna().sum()"
      ],
      "metadata": {
        "colab": {
          "base_uri": "https://localhost:8080/"
        },
        "id": "Mh-BjndM0Qs4",
        "outputId": "6f57e43e-c02b-4a4c-958a-3d97a191af66"
      },
      "execution_count": 191,
      "outputs": [
        {
          "output_type": "execute_result",
          "data": {
            "text/plain": [
              "1476"
            ]
          },
          "metadata": {},
          "execution_count": 191
        }
      ]
    },
    {
      "cell_type": "code",
      "source": [
        "data['tempo']=data['tempo'].astype(float)"
      ],
      "metadata": {
        "id": "lQfdh44Y0Qum"
      },
      "execution_count": 192,
      "outputs": []
    },
    {
      "cell_type": "code",
      "source": [
        "data['tempo'].fillna(data['tempo'].median(),inplace=True)"
      ],
      "metadata": {
        "id": "Kl7oL6Xc0Qyh"
      },
      "execution_count": 193,
      "outputs": []
    },
    {
      "cell_type": "code",
      "source": [
        "data['tempo'].isna().sum()"
      ],
      "metadata": {
        "colab": {
          "base_uri": "https://localhost:8080/"
        },
        "id": "JAeU04UK0jBF",
        "outputId": "90e2c1e8-d230-49b9-e66e-8e63ee1bfa3d"
      },
      "execution_count": 194,
      "outputs": [
        {
          "output_type": "execute_result",
          "data": {
            "text/plain": [
              "0"
            ]
          },
          "metadata": {},
          "execution_count": 194
        }
      ]
    },
    {
      "cell_type": "markdown",
      "source": [
        "## Musician_category"
      ],
      "metadata": {
        "id": "aX7Tbo100sSI"
      }
    },
    {
      "cell_type": "code",
      "source": [
        "data['musician_category'].head()"
      ],
      "metadata": {
        "colab": {
          "base_uri": "https://localhost:8080/"
        },
        "id": "MLEAxTG704UG",
        "outputId": "9e30e5eb-c09b-459f-dae2-aec3a03d3cb9"
      },
      "execution_count": 195,
      "outputs": [
        {
          "output_type": "execute_result",
          "data": {
            "text/plain": [
              "0    Band\n",
              "1    Band\n",
              "2    Band\n",
              "3    Duet\n",
              "4    Band\n",
              "Name: musician_category, dtype: object"
            ]
          },
          "metadata": {},
          "execution_count": 195
        }
      ]
    },
    {
      "cell_type": "code",
      "source": [
        "data['musician_category'].unique()"
      ],
      "metadata": {
        "colab": {
          "base_uri": "https://localhost:8080/"
        },
        "id": "1Aftwzaw04Vp",
        "outputId": "4d1f5ee1-35f7-454f-e95b-24c6c3a75f02"
      },
      "execution_count": 196,
      "outputs": [
        {
          "output_type": "execute_result",
          "data": {
            "text/plain": [
              "array(['Band', 'Duet', 'Solo', nan], dtype=object)"
            ]
          },
          "metadata": {},
          "execution_count": 196
        }
      ]
    },
    {
      "cell_type": "code",
      "source": [
        "data['musician_category'].value_counts()"
      ],
      "metadata": {
        "colab": {
          "base_uri": "https://localhost:8080/"
        },
        "id": "fMthD6lJ04au",
        "outputId": "1fd2e219-a391-43cc-a6f7-541a80aad559"
      },
      "execution_count": 197,
      "outputs": [
        {
          "output_type": "execute_result",
          "data": {
            "text/plain": [
              "Band    4843\n",
              "Solo    4784\n",
              "Duet    4694\n",
              "Name: musician_category, dtype: int64"
            ]
          },
          "metadata": {},
          "execution_count": 197
        }
      ]
    },
    {
      "cell_type": "code",
      "source": [
        "data['musician_category'].isna().sum()"
      ],
      "metadata": {
        "colab": {
          "base_uri": "https://localhost:8080/"
        },
        "id": "T9CNxZ9V1EQe",
        "outputId": "b49fa361-86f0-402b-8c10-0f9dfff90e6d"
      },
      "execution_count": 198,
      "outputs": [
        {
          "output_type": "execute_result",
          "data": {
            "text/plain": [
              "1360"
            ]
          },
          "metadata": {},
          "execution_count": 198
        }
      ]
    },
    {
      "cell_type": "code",
      "source": [
        "data['musician_category'].fillna(data['musician_category'].mode()[0],inplace=True)"
      ],
      "metadata": {
        "id": "vIcVXef41EUt"
      },
      "execution_count": 199,
      "outputs": []
    },
    {
      "cell_type": "code",
      "source": [
        "data['musician_category'].isna().sum()"
      ],
      "metadata": {
        "colab": {
          "base_uri": "https://localhost:8080/"
        },
        "id": "btOsqjj91EWf",
        "outputId": "50a1bfaa-ada2-4535-a8e2-2f58d3b61905"
      },
      "execution_count": 200,
      "outputs": [
        {
          "output_type": "execute_result",
          "data": {
            "text/plain": [
              "0"
            ]
          },
          "metadata": {},
          "execution_count": 200
        }
      ]
    },
    {
      "cell_type": "code",
      "source": [
        "plt.figure(figsize=(8,8))\n",
        "sns.countplot(x=data['musician_category'],palette='rainbow')\n",
        "plt.xticks(rotation=45)"
      ],
      "metadata": {
        "colab": {
          "base_uri": "https://localhost:8080/",
          "height": 530
        },
        "id": "lnFmYbCI1XwK",
        "outputId": "8591019e-b44a-4015-cab8-51501cd46ed3"
      },
      "execution_count": 201,
      "outputs": [
        {
          "output_type": "execute_result",
          "data": {
            "text/plain": [
              "(array([0, 1, 2]), <a list of 3 Text major ticklabel objects>)"
            ]
          },
          "metadata": {},
          "execution_count": 201
        },
        {
          "output_type": "display_data",
          "data": {
            "image/png": "[encoded data removed]",
            "text/plain": [
              "<Figure size 576x576 with 1 Axes>"
            ]
          },
          "metadata": {
            "needs_background": "light"
          }
        }
      ]
    },
    {
      "cell_type": "markdown",
      "source": [
        "## Valence"
      ],
      "metadata": {
        "id": "noSQTK0j1x2p"
      }
    },
    {
      "cell_type": "code",
      "source": [
        "data['valence'].head()"
      ],
      "metadata": {
        "colab": {
          "base_uri": "https://localhost:8080/"
        },
        "id": "IzCiywfS1zz5",
        "outputId": "2b0b54c2-ce77-4787-dbd4-763b942f3bc9"
      },
      "execution_count": 202,
      "outputs": [
        {
          "output_type": "execute_result",
          "data": {
            "text/plain": [
              "0    0.598965\n",
              "1    0.357194\n",
              "2    0.635525\n",
              "3    0.983750\n",
              "4    0.074412\n",
              "Name: valence, dtype: float64"
            ]
          },
          "metadata": {},
          "execution_count": 202
        }
      ]
    },
    {
      "cell_type": "code",
      "source": [
        "data['valence'].value_counts()"
      ],
      "metadata": {
        "colab": {
          "base_uri": "https://localhost:8080/"
        },
        "id": "XeiTkUrSwe1k",
        "outputId": "31d0d604-dde1-4668-e6a0-589a14e596b6"
      },
      "execution_count": 203,
      "outputs": [
        {
          "output_type": "execute_result",
          "data": {
            "text/plain": [
              "0.576256    1\n",
              "0.626088    1\n",
              "0.677872    1\n",
              "0.518300    1\n",
              "0.664878    1\n",
              "           ..\n",
              "0.285268    1\n",
              "0.731194    1\n",
              "0.561186    1\n",
              "0.436409    1\n",
              "0.000000    1\n",
              "Name: valence, Length: 15004, dtype: int64"
            ]
          },
          "metadata": {},
          "execution_count": 203
        }
      ]
    },
    {
      "cell_type": "code",
      "source": [
        "data['valence'].isna().sum()"
      ],
      "metadata": {
        "colab": {
          "base_uri": "https://localhost:8080/"
        },
        "id": "u81CHWBm1z1l",
        "outputId": "ccb187cc-2b2d-4c5a-c64b-f5719c3e95a5"
      },
      "execution_count": 204,
      "outputs": [
        {
          "output_type": "execute_result",
          "data": {
            "text/plain": [
              "677"
            ]
          },
          "metadata": {},
          "execution_count": 204
        }
      ]
    },
    {
      "cell_type": "code",
      "source": [
        "data['valence'].fillna(data['valence'].median(),inplace=True)"
      ],
      "metadata": {
        "id": "rIkzBOtl1z6D"
      },
      "execution_count": 205,
      "outputs": []
    },
    {
      "cell_type": "code",
      "source": [
        "data['valence'].isna().sum()"
      ],
      "metadata": {
        "colab": {
          "base_uri": "https://localhost:8080/"
        },
        "id": "kz0Sb9aN2STn",
        "outputId": "09af02af-48d4-42d7-871d-1f57a4011c94"
      },
      "execution_count": 206,
      "outputs": [
        {
          "output_type": "execute_result",
          "data": {
            "text/plain": [
              "0"
            ]
          },
          "metadata": {},
          "execution_count": 206
        }
      ]
    },
    {
      "cell_type": "markdown",
      "source": [
        "## Music_Genre"
      ],
      "metadata": {
        "id": "azaPaY8N1pgT"
      }
    },
    {
      "cell_type": "code",
      "source": [
        "data['music_genre'].head()"
      ],
      "metadata": {
        "colab": {
          "base_uri": "https://localhost:8080/"
        },
        "id": "DcxfMC352dS1",
        "outputId": "24bebeaa-7ef5-418c-e7a0-c27c1233fa5b"
      },
      "execution_count": 207,
      "outputs": [
        {
          "output_type": "execute_result",
          "data": {
            "text/plain": [
              "0         Jazz\n",
              "1         Jazz\n",
              "2          Rap\n",
              "3         Rock\n",
              "4    Classical\n",
              "Name: music_genre, dtype: object"
            ]
          },
          "metadata": {},
          "execution_count": 207
        }
      ]
    },
    {
      "cell_type": "code",
      "source": [
        "data['music_genre'].unique()"
      ],
      "metadata": {
        "colab": {
          "base_uri": "https://localhost:8080/"
        },
        "id": "21To1Gsj2h9C",
        "outputId": "61d52e9e-8ed0-44e2-8f96-27efa34b01e7"
      },
      "execution_count": 208,
      "outputs": [
        {
          "output_type": "execute_result",
          "data": {
            "text/plain": [
              "array(['Jazz', 'Rap', 'Rock', 'Classical', 'Electronic', 'Country',\n",
              "       'Hip-Hop'], dtype=object)"
            ]
          },
          "metadata": {},
          "execution_count": 208
        }
      ]
    },
    {
      "cell_type": "code",
      "source": [
        "data['music_genre'].isna().sum()"
      ],
      "metadata": {
        "colab": {
          "base_uri": "https://localhost:8080/"
        },
        "id": "fiTXU_pV24Xb",
        "outputId": "f3cbfa89-92c5-4c32-c57b-f4c444ff33f0"
      },
      "execution_count": 209,
      "outputs": [
        {
          "output_type": "execute_result",
          "data": {
            "text/plain": [
              "0"
            ]
          },
          "metadata": {},
          "execution_count": 209
        }
      ]
    },
    {
      "cell_type": "code",
      "source": [
        "data['music_genre'].value_counts()"
      ],
      "metadata": {
        "colab": {
          "base_uri": "https://localhost:8080/"
        },
        "id": "2_AZvZSK2h-v",
        "outputId": "7bf27d6b-3c2c-4f06-cd67-0488b3cda910"
      },
      "execution_count": 210,
      "outputs": [
        {
          "output_type": "execute_result",
          "data": {
            "text/plain": [
              "Classical     3990\n",
              "Rock          3879\n",
              "Rap           3207\n",
              "Jazz          2850\n",
              "Country        683\n",
              "Electronic     614\n",
              "Hip-Hop        458\n",
              "Name: music_genre, dtype: int64"
            ]
          },
          "metadata": {},
          "execution_count": 210
        }
      ]
    },
    {
      "cell_type": "code",
      "source": [
        "plt.figure(figsize=(8,8))\n",
        "sns.countplot(x=data['music_genre'],palette='rainbow')\n",
        "plt.xticks(rotation=45)"
      ],
      "metadata": {
        "colab": {
          "base_uri": "https://localhost:8080/",
          "height": 547
        },
        "id": "V2rtckFd2zCx",
        "outputId": "12fd8ffd-cbe2-4d11-8350-47594412782d"
      },
      "execution_count": 211,
      "outputs": [
        {
          "output_type": "execute_result",
          "data": {
            "text/plain": [
              "(array([0, 1, 2, 3, 4, 5, 6]), <a list of 7 Text major ticklabel objects>)"
            ]
          },
          "metadata": {},
          "execution_count": 211
        },
        {
          "output_type": "display_data",
          "data": {
            "image/png": "[encoded data removed]",
            "text/plain": [
              "<Figure size 576x576 with 1 Axes>"
            ]
          },
          "metadata": {
            "needs_background": "light"
          }
        }
      ]
    },
    {
      "cell_type": "markdown",
      "source": [
        "## Model Building"
      ],
      "metadata": {
        "id": "FeQn1XE8Cjc_"
      }
    },
    {
      "cell_type": "code",
      "source": [
        "X=data.drop(['instance_id','track_name','music_genre'],axis=1)"
      ],
      "metadata": {
        "id": "yO90S7ia82ih"
      },
      "execution_count": 212,
      "outputs": []
    },
    {
      "cell_type": "code",
      "source": [
        "X.head()"
      ],
      "metadata": {
        "colab": {
          "base_uri": "https://localhost:8080/",
          "height": 223
        },
        "id": "HfOPo7NU9eSl",
        "outputId": "7f4256eb-d4cc-4eb7-83cf-7f9dbf31f3d9"
      },
      "execution_count": 213,
      "outputs": [
        {
          "output_type": "execute_result",
          "data": {
            "text/html": [
              "<div>\n",
              "<style scoped>\n",
              "    .dataframe tbody tr th:only-of-type {\n",
              "        vertical-align: middle;\n",
              "    }\n",
              "\n",
              "    .dataframe tbody tr th {\n",
              "        vertical-align: top;\n",
              "    }\n",
              "\n",
              "    .dataframe thead th {\n",
              "        text-align: right;\n",
              "    }\n",
              "</style>\n",
              "<table border=\"1\" class=\"dataframe\">\n",
              "  <thead>\n",
              "    <tr style=\"text-align: right;\">\n",
              "      <th></th>\n",
              "      <th>popularity</th>\n",
              "      <th>acousticness</th>\n",
              "      <th>danceability</th>\n",
              "      <th>duration_ms</th>\n",
              "      <th>energy</th>\n",
              "      <th>instrumentalness</th>\n",
              "      <th>key</th>\n",
              "      <th>liveness</th>\n",
              "      <th>loudness</th>\n",
              "      <th>voice_gender</th>\n",
              "      <th>mode</th>\n",
              "      <th>speechiness</th>\n",
              "      <th>tempo</th>\n",
              "      <th>musician_category</th>\n",
              "      <th>valence</th>\n",
              "    </tr>\n",
              "  </thead>\n",
              "  <tbody>\n",
              "    <tr>\n",
              "      <th>0</th>\n",
              "      <td>49.178</td>\n",
              "      <td>0.970522</td>\n",
              "      <td>0.580508</td>\n",
              "      <td>214625.776</td>\n",
              "      <td>0.192107</td>\n",
              "      <td>0.000000</td>\n",
              "      <td>Scale E</td>\n",
              "      <td>0.147134</td>\n",
              "      <td>-14.140</td>\n",
              "      <td>Female</td>\n",
              "      <td>Major</td>\n",
              "      <td>0.046404</td>\n",
              "      <td>143.788</td>\n",
              "      <td>Band</td>\n",
              "      <td>0.598965</td>\n",
              "    </tr>\n",
              "    <tr>\n",
              "      <th>1</th>\n",
              "      <td>59.827</td>\n",
              "      <td>1.009380</td>\n",
              "      <td>0.687542</td>\n",
              "      <td>216232.195</td>\n",
              "      <td>0.265942</td>\n",
              "      <td>0.000031</td>\n",
              "      <td>Scale A</td>\n",
              "      <td>0.174655</td>\n",
              "      <td>-13.716</td>\n",
              "      <td>Male</td>\n",
              "      <td>Major</td>\n",
              "      <td>0.039949</td>\n",
              "      <td>113.108</td>\n",
              "      <td>Band</td>\n",
              "      <td>0.357194</td>\n",
              "    </tr>\n",
              "    <tr>\n",
              "      <th>2</th>\n",
              "      <td>89.023</td>\n",
              "      <td>0.020041</td>\n",
              "      <td>0.967948</td>\n",
              "      <td>273314.723</td>\n",
              "      <td>0.857411</td>\n",
              "      <td>0.000000</td>\n",
              "      <td>Scale D</td>\n",
              "      <td>0.042030</td>\n",
              "      <td>-4.995</td>\n",
              "      <td>Female</td>\n",
              "      <td>Major</td>\n",
              "      <td>0.119917</td>\n",
              "      <td>105.018</td>\n",
              "      <td>Band</td>\n",
              "      <td>0.635525</td>\n",
              "    </tr>\n",
              "    <tr>\n",
              "      <th>3</th>\n",
              "      <td>55.762</td>\n",
              "      <td>0.010284</td>\n",
              "      <td>0.616287</td>\n",
              "      <td>189189.605</td>\n",
              "      <td>0.970513</td>\n",
              "      <td>0.000220</td>\n",
              "      <td>Scale D</td>\n",
              "      <td>0.124637</td>\n",
              "      <td>-4.262</td>\n",
              "      <td>Both</td>\n",
              "      <td>Major</td>\n",
              "      <td>0.167493</td>\n",
              "      <td>113.108</td>\n",
              "      <td>Duet</td>\n",
              "      <td>0.983750</td>\n",
              "    </tr>\n",
              "    <tr>\n",
              "      <th>4</th>\n",
              "      <td>45.095</td>\n",
              "      <td>0.858769</td>\n",
              "      <td>0.280645</td>\n",
              "      <td>410136.987</td>\n",
              "      <td>0.114732</td>\n",
              "      <td>0.002753</td>\n",
              "      <td>Scale F Sharp</td>\n",
              "      <td>0.134782</td>\n",
              "      <td>-26.922</td>\n",
              "      <td>Female</td>\n",
              "      <td>Minor</td>\n",
              "      <td>0.039139</td>\n",
              "      <td>112.183</td>\n",
              "      <td>Band</td>\n",
              "      <td>0.074412</td>\n",
              "    </tr>\n",
              "  </tbody>\n",
              "</table>\n",
              "</div>"
            ],
            "text/plain": [
              "   popularity  acousticness  danceability  ...    tempo  musician_category   valence\n",
              "0      49.178      0.970522      0.580508  ...  143.788               Band  0.598965\n",
              "1      59.827      1.009380      0.687542  ...  113.108               Band  0.357194\n",
              "2      89.023      0.020041      0.967948  ...  105.018               Band  0.635525\n",
              "3      55.762      0.010284      0.616287  ...  113.108               Duet  0.983750\n",
              "4      45.095      0.858769      0.280645  ...  112.183               Band  0.074412\n",
              "\n",
              "[5 rows x 15 columns]"
            ]
          },
          "metadata": {},
          "execution_count": 213
        }
      ]
    },
    {
      "cell_type": "code",
      "source": [
        "X.shape"
      ],
      "metadata": {
        "colab": {
          "base_uri": "https://localhost:8080/"
        },
        "id": "dwUItZy694cz",
        "outputId": "585e6f4f-8292-4e48-c789-fd668e24bc64"
      },
      "execution_count": 214,
      "outputs": [
        {
          "output_type": "execute_result",
          "data": {
            "text/plain": [
              "(15681, 15)"
            ]
          },
          "metadata": {},
          "execution_count": 214
        }
      ]
    },
    {
      "cell_type": "code",
      "source": [
        "X_new=pd.get_dummies(X,drop_first=True)\n",
        "print(X_new.shape)"
      ],
      "metadata": {
        "colab": {
          "base_uri": "https://localhost:8080/"
        },
        "id": "E619SJlV9fke",
        "outputId": "77bba033-8326-460d-efdf-a19ddc8e5ee7"
      },
      "execution_count": 215,
      "outputs": [
        {
          "output_type": "stream",
          "name": "stdout",
          "text": [
            "(15681, 27)\n"
          ]
        }
      ]
    },
    {
      "cell_type": "code",
      "source": [
        "from sklearn import preprocessing\n",
        "scaler = preprocessing.RobustScaler()\n",
        "X_scaled = scaler.fit_transform(X_new)\n"
      ],
      "metadata": {
        "id": "AqDqCnf-WHrT"
      },
      "execution_count": 216,
      "outputs": []
    },
    {
      "cell_type": "code",
      "source": [
        "X_scaled.shape"
      ],
      "metadata": {
        "colab": {
          "base_uri": "https://localhost:8080/"
        },
        "id": "im6qv2TIWiiQ",
        "outputId": "349ad1ac-c88b-4249-ab1b-f726c6f2eb50"
      },
      "execution_count": 217,
      "outputs": [
        {
          "output_type": "execute_result",
          "data": {
            "text/plain": [
              "(15681, 27)"
            ]
          },
          "metadata": {},
          "execution_count": 217
        }
      ]
    },
    {
      "cell_type": "code",
      "source": [
        "Y=data[['music_genre']]\n",
        "Y.head()"
      ],
      "metadata": {
        "colab": {
          "base_uri": "https://localhost:8080/",
          "height": 206
        },
        "id": "8RkiU8w-99N3",
        "outputId": "3f978091-cdf3-4568-b55c-381d89764789"
      },
      "execution_count": 218,
      "outputs": [
        {
          "output_type": "execute_result",
          "data": {
            "text/html": [
              "<div>\n",
              "<style scoped>\n",
              "    .dataframe tbody tr th:only-of-type {\n",
              "        vertical-align: middle;\n",
              "    }\n",
              "\n",
              "    .dataframe tbody tr th {\n",
              "        vertical-align: top;\n",
              "    }\n",
              "\n",
              "    .dataframe thead th {\n",
              "        text-align: right;\n",
              "    }\n",
              "</style>\n",
              "<table border=\"1\" class=\"dataframe\">\n",
              "  <thead>\n",
              "    <tr style=\"text-align: right;\">\n",
              "      <th></th>\n",
              "      <th>music_genre</th>\n",
              "    </tr>\n",
              "  </thead>\n",
              "  <tbody>\n",
              "    <tr>\n",
              "      <th>0</th>\n",
              "      <td>Jazz</td>\n",
              "    </tr>\n",
              "    <tr>\n",
              "      <th>1</th>\n",
              "      <td>Jazz</td>\n",
              "    </tr>\n",
              "    <tr>\n",
              "      <th>2</th>\n",
              "      <td>Rap</td>\n",
              "    </tr>\n",
              "    <tr>\n",
              "      <th>3</th>\n",
              "      <td>Rock</td>\n",
              "    </tr>\n",
              "    <tr>\n",
              "      <th>4</th>\n",
              "      <td>Classical</td>\n",
              "    </tr>\n",
              "  </tbody>\n",
              "</table>\n",
              "</div>"
            ],
            "text/plain": [
              "  music_genre\n",
              "0        Jazz\n",
              "1        Jazz\n",
              "2         Rap\n",
              "3        Rock\n",
              "4   Classical"
            ]
          },
          "metadata": {},
          "execution_count": 218
        }
      ]
    },
    {
      "cell_type": "code",
      "source": [
        "Y['music_genre'].unique()"
      ],
      "metadata": {
        "colab": {
          "base_uri": "https://localhost:8080/"
        },
        "id": "fUuD_yQnB3FS",
        "outputId": "a053c565-3d99-4e2e-aace-8c7d7af7496e"
      },
      "execution_count": 219,
      "outputs": [
        {
          "output_type": "execute_result",
          "data": {
            "text/plain": [
              "array(['Jazz', 'Rap', 'Rock', 'Classical', 'Electronic', 'Country',\n",
              "       'Hip-Hop'], dtype=object)"
            ]
          },
          "metadata": {},
          "execution_count": 219
        }
      ]
    },
    {
      "cell_type": "code",
      "source": [
        "Y['music_genre'].value_counts()"
      ],
      "metadata": {
        "colab": {
          "base_uri": "https://localhost:8080/"
        },
        "id": "Hel8BqOaCKgM",
        "outputId": "5f6dd5fc-b21c-4559-8d79-b13a105536bb"
      },
      "execution_count": 220,
      "outputs": [
        {
          "output_type": "execute_result",
          "data": {
            "text/plain": [
              "Classical     3990\n",
              "Rock          3879\n",
              "Rap           3207\n",
              "Jazz          2850\n",
              "Country        683\n",
              "Electronic     614\n",
              "Hip-Hop        458\n",
              "Name: music_genre, dtype: int64"
            ]
          },
          "metadata": {},
          "execution_count": 220
        }
      ]
    },
    {
      "cell_type": "code",
      "source": [
        "Y_new=Y['music_genre'].replace(to_replace=['Jazz', 'Rap', 'Rock', 'Classical', 'Electronic', 'Country',\n",
        "       'Hip-Hop'],value=[0,1,2,3,4,5,6])"
      ],
      "metadata": {
        "id": "B_CAcePiAcWN"
      },
      "execution_count": 221,
      "outputs": []
    },
    {
      "cell_type": "code",
      "source": [
        "Y_new.head()"
      ],
      "metadata": {
        "colab": {
          "base_uri": "https://localhost:8080/"
        },
        "id": "t-0ZMM0yCXqE",
        "outputId": "ca6bc6c4-c421-49be-a5b2-80a720daa8ef"
      },
      "execution_count": 222,
      "outputs": [
        {
          "output_type": "execute_result",
          "data": {
            "text/plain": [
              "0    0\n",
              "1    0\n",
              "2    1\n",
              "3    2\n",
              "4    3\n",
              "Name: music_genre, dtype: int64"
            ]
          },
          "metadata": {},
          "execution_count": 222
        }
      ]
    },
    {
      "cell_type": "code",
      "source": [
        "from sklearn.model_selection import train_test_split\n",
        "x_train,x_test,y_train,y_test=train_test_split(X_scaled,Y_new,test_size=0.2)"
      ],
      "metadata": {
        "id": "EANljzy8AJi6"
      },
      "execution_count": 223,
      "outputs": []
    },
    {
      "cell_type": "code",
      "source": [
        "x_train[:5]"
      ],
      "metadata": {
        "colab": {
          "base_uri": "https://localhost:8080/"
        },
        "id": "sdm74mqBuaGp",
        "outputId": "1c252a96-c041-4284-87de-466409870cb1"
      },
      "execution_count": 224,
      "outputs": [
        {
          "output_type": "execute_result",
          "data": {
            "text/plain": [
              "array([[ 2.62790698e-01, -3.01453766e-01,  3.60303374e-01,\n",
              "        -2.07424804e-01,  5.97004871e-01, -1.13698598e-03,\n",
              "        -7.05263927e-02,  4.15057718e-01, -1.95430061e-01,\n",
              "        -4.81550700e-01,  1.29579461e+00,  0.00000000e+00,\n",
              "         0.00000000e+00,  1.00000000e+00,  0.00000000e+00,\n",
              "         0.00000000e+00,  0.00000000e+00,  0.00000000e+00,\n",
              "         0.00000000e+00,  0.00000000e+00,  0.00000000e+00,\n",
              "         0.00000000e+00,  0.00000000e+00,  1.00000000e+00,\n",
              "         0.00000000e+00,  0.00000000e+00,  1.00000000e+00],\n",
              "       [-4.40422833e-01, -1.93666359e-01,  5.70044383e-01,\n",
              "         1.61819751e+00,  5.68169001e-01, -1.12850830e-03,\n",
              "        -1.41428255e-01, -2.55797324e-01,  1.60003464e-01,\n",
              "        -1.98150278e-01,  6.12920035e-01,  1.00000000e+00,\n",
              "         0.00000000e+00,  0.00000000e+00,  0.00000000e+00,\n",
              "         0.00000000e+00,  0.00000000e+00,  0.00000000e+00,\n",
              "         0.00000000e+00,  0.00000000e+00,  0.00000000e+00,\n",
              "         0.00000000e+00,  1.00000000e+00,  0.00000000e+00,\n",
              "         0.00000000e+00,  0.00000000e+00,  0.00000000e+00],\n",
              "       [ 1.94503171e-02, -3.33590570e-01, -4.82860752e-02,\n",
              "         5.60225268e-01,  9.12920347e-01, -1.04006548e-03,\n",
              "        -7.02988942e-01,  4.87179487e-01, -1.72935203e-02,\n",
              "         2.30616255e-01,  1.26601358e-01,  0.00000000e+00,\n",
              "         0.00000000e+00,  0.00000000e+00,  1.00000000e+00,\n",
              "         0.00000000e+00,  0.00000000e+00,  0.00000000e+00,\n",
              "         0.00000000e+00,  0.00000000e+00,  0.00000000e+00,\n",
              "         0.00000000e+00,  0.00000000e+00,  1.00000000e+00,\n",
              "         0.00000000e+00,  0.00000000e+00,  0.00000000e+00],\n",
              "       [ 2.72304440e-01, -2.66217084e-01,  1.07243223e+00,\n",
              "         4.15871087e-01, -4.34049784e-01, -1.13698598e-03,\n",
              "         1.56440744e-02, -1.38727143e-01,  9.66813964e-03,\n",
              "         2.12430516e-01, -8.15685624e-01,  0.00000000e+00,\n",
              "         0.00000000e+00,  0.00000000e+00,  0.00000000e+00,\n",
              "         0.00000000e+00,  0.00000000e+00,  1.00000000e+00,\n",
              "         0.00000000e+00,  0.00000000e+00,  0.00000000e+00,\n",
              "         0.00000000e+00,  0.00000000e+00,  0.00000000e+00,\n",
              "         0.00000000e+00,  1.00000000e+00,  0.00000000e+00],\n",
              "       [-9.92389006e-01, -3.33669713e-01, -3.38111857e-01,\n",
              "        -3.04191179e-01,  9.46882012e-01,  8.59489277e-03,\n",
              "         1.43541412e+00,  3.81755031e-01,  1.92432666e+00,\n",
              "         0.00000000e+00, -4.72660387e-02,  0.00000000e+00,\n",
              "         0.00000000e+00,  0.00000000e+00,  0.00000000e+00,\n",
              "         0.00000000e+00,  0.00000000e+00,  0.00000000e+00,\n",
              "         0.00000000e+00,  1.00000000e+00,  0.00000000e+00,\n",
              "         0.00000000e+00,  0.00000000e+00,  0.00000000e+00,\n",
              "         1.00000000e+00,  0.00000000e+00,  0.00000000e+00]])"
            ]
          },
          "metadata": {},
          "execution_count": 224
        }
      ]
    },
    {
      "cell_type": "code",
      "source": [
        "print(x_train.shape)\n",
        "print(y_train.shape)"
      ],
      "metadata": {
        "colab": {
          "base_uri": "https://localhost:8080/"
        },
        "id": "7fwcVSn6EkDe",
        "outputId": "c91e9a32-0902-4326-dead-3af36e3d5695"
      },
      "execution_count": 225,
      "outputs": [
        {
          "output_type": "stream",
          "name": "stdout",
          "text": [
            "(12544, 27)\n",
            "(12544,)\n"
          ]
        }
      ]
    },
    {
      "cell_type": "code",
      "source": [
        "import tensorflow as tf\n",
        "from tensorflow import keras"
      ],
      "metadata": {
        "id": "xEFVVBLf_OdW"
      },
      "execution_count": 226,
      "outputs": []
    },
    {
      "cell_type": "code",
      "source": [
        "model=keras.Sequential([\n",
        "                        keras.layers.Dense(5,activation='relu',input_shape=(X_new.shape[1],)),\n",
        "                        keras.layers.Dense(10,activation='relu'),\n",
        "                        keras.layers.Dense(5,activation='relu'),\n",
        "                        keras.layers.Dense(5,activation='relu'),\n",
        "                        keras.layers.Dense(5,activation='relu'),\n",
        "                        keras.layers.Dense(7,activation='relu'),\n",
        "                        keras.layers.Dense(1,activation='softmax')\n",
        "])"
      ],
      "metadata": {
        "id": "HKSBTbhpAA_X"
      },
      "execution_count": 227,
      "outputs": []
    },
    {
      "cell_type": "code",
      "source": [
        "model.compile(optimizer=tf.keras.optimizers.Adam(clipvalue=0.5),\n",
        "              loss=tf.keras.losses.CategoricalCrossentropy(),\n",
        "              metrics=['accuracy'])\n",
        "\n",
        "history=model.fit(x_train, y_train, epochs=10)"
      ],
      "metadata": {
        "colab": {
          "base_uri": "https://localhost:8080/"
        },
        "id": "LDNwETYeDNS_",
        "outputId": "84feb8ac-1a42-4743-845a-5d87a8943512"
      },
      "execution_count": 229,
      "outputs": [
        {
          "output_type": "stream",
          "name": "stdout",
          "text": [
            "Epoch 1/10\n",
            "392/392 [==============================] - 2s 2ms/step - loss: nan - accuracy: 0.1851\n",
            "Epoch 2/10\n",
            "392/392 [==============================] - 1s 2ms/step - loss: nan - accuracy: 0.1852\n",
            "Epoch 3/10\n",
            "392/392 [==============================] - 1s 2ms/step - loss: nan - accuracy: 0.1852\n",
            "Epoch 4/10\n",
            "392/392 [==============================] - 1s 2ms/step - loss: nan - accuracy: 0.1852\n",
            "Epoch 5/10\n",
            "392/392 [==============================] - 1s 2ms/step - loss: nan - accuracy: 0.1852\n",
            "Epoch 6/10\n",
            "392/392 [==============================] - 1s 2ms/step - loss: nan - accuracy: 0.1852\n",
            "Epoch 7/10\n",
            "392/392 [==============================] - 1s 2ms/step - loss: nan - accuracy: 0.1852\n",
            "Epoch 8/10\n",
            "392/392 [==============================] - 1s 2ms/step - loss: nan - accuracy: 0.1852\n",
            "Epoch 9/10\n",
            "392/392 [==============================] - 1s 2ms/step - loss: nan - accuracy: 0.1852\n",
            "Epoch 10/10\n",
            "392/392 [==============================] - 1s 2ms/step - loss: nan - accuracy: 0.1852\n"
          ]
        }
      ]
    }
  ]
}